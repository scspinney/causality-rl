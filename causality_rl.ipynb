{
 "cells": [
  {
   "cell_type": "code",
   "execution_count": null,
   "metadata": {},
   "outputs": [],
   "source": [
    "import numpy as np "
   ]
  },
  {
   "cell_type": "code",
   "execution_count": null,
   "metadata": {},
   "outputs": [],
   "source": [
    "class graph_mdp():\n",
    "\n",
    "    def __init__(self,n_states,n_actions,rewards,init_state,init_P,init_v):\n",
    "        self.n_states = n_states                \n",
    "        self.n_actions = n_actions\n",
    "        self.r = rewards \n",
    "        self.state = init_state\n",
    "        self.P = init_P\n",
    "        self.Q = init_Q\n",
    "        \n",
    "    def transition_probs(self,action):\n",
    "        \n",
    "        # get the post-interv. essential graphs\n",
    "        post_int_graphs = post_intervention_graphs(action)\n",
    "        \n",
    "        # calculate the BIC for each one \n",
    "        bic_scores = graphBIC(post_int_graphs)\n",
    "        \n",
    "        # transform BIC scores to probabilities\n",
    "        self.P = ... \n",
    "        \n",
    "    def post_intervention_graphs(action):\n",
    "        \"\"\"\n",
    "            Given current graph (self.state) \n",
    "            and intervention on that graph (action)\n",
    "            return the set of post intervention\n",
    "            graphs (next states)\n",
    "        \"\"\"\n",
    "        \n",
    "        # \n",
    "        \n",
    "        return graphs\n",
    "    \n",
    "    def graphBIC(self,post_int_graphs):\n",
    "        \n",
    "        return bic_scores\n",
    "    \n",
    "    def solve(self):\n",
    "        \"\"\"\n",
    "            Given a max number of experiments\n",
    "            return the optimal policy which is \n",
    "            the sequence of experiment on \n",
    "            how to go from observed data to the \n",
    "            causal graph\n",
    "        \"\"\"\n",
    "                \n",
    "        \n",
    "        return causal_graph\n",
    "        "
   ]
  },
  {
   "cell_type": "code",
   "execution_count": null,
   "metadata": {},
   "outputs": [],
   "source": [
    "def create_causal_dataset(size):\n",
    "    \"\"\"\n",
    "        Different experiments \n",
    "    \"\"\"\n",
    "    def CG1():\n",
    "        x1 = np.random.normal(size=size)\n",
    "        x2 = x1 + np.random.normal(size=size)\n",
    "        x3 = x1 + np.random.normal(size=size)\n",
    "        x4 = x2 + x3 + np.random.normal(size=size)\n",
    "        \n",
    "        # throw in matrix\n",
    "        x = np.c_[x1,x2,x3,x4]\n",
    "        \n",
    "        # the causal structure \n",
    "        y = ...\n",
    "        return x, y\n",
    "    \n",
    "    return CG1   "
   ]
  },
  {
   "cell_type": "code",
   "execution_count": null,
   "metadata": {},
   "outputs": [],
   "source": [
    "size= 10\n",
    "\n",
    "n_actions = \n",
    "n_states = \n",
    "\n",
    "init_state =\n",
    "init_P = \n",
    "\n",
    "data, rewards = create_causal_dataset(size)\n",
    "\n",
    "\n",
    "g_mdp = graph_mdp(self,n_states,n_actions,rewards,init_state,init_P)\n",
    "causal_graph = g_mdp.solve()"
   ]
  }
 ],
 "metadata": {
  "kernelspec": {
   "display_name": "Python 3",
   "language": "python",
   "name": "python3"
  },
  "language_info": {
   "codemirror_mode": {
    "name": "ipython",
    "version": 3
   },
   "file_extension": ".py",
   "mimetype": "text/x-python",
   "name": "python",
   "nbconvert_exporter": "python",
   "pygments_lexer": "ipython3",
   "version": "3.6.9"
  }
 },
 "nbformat": 4,
 "nbformat_minor": 4
}
